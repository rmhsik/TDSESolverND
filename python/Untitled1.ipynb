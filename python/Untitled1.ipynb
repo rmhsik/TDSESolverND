{
 "cells": [
  {
   "cell_type": "code",
   "execution_count": 1,
   "id": "9022a821-c02f-4359-b8c1-fc0e61824b3d",
   "metadata": {},
   "outputs": [],
   "source": [
    "import numpy as np"
   ]
  },
  {
   "cell_type": "code",
   "execution_count": 8,
   "id": "e40a495d-8c4d-4f62-9df8-4052b92f848f",
   "metadata": {},
   "outputs": [],
   "source": [
    "r,dr = np.linspace(0,1,2000,retstep=True)\n",
    "z,dz = np.linspace(0,1,4000,retstep=True)\n"
   ]
  },
  {
   "cell_type": "code",
   "execution_count": 9,
   "id": "a03f9d0e-8d61-4f67-8843-6e8a5ebe6153",
   "metadata": {},
   "outputs": [],
   "source": [
    "integral = 0\n",
    "\n",
    "for i in range(2000):\n",
    "    for j in range(4000):\n",
    "        integral += r[i]*dr*dz\n",
    "integral = integral*2*np.pi"
   ]
  },
  {
   "cell_type": "code",
   "execution_count": 10,
   "id": "d84dcfaf-a8f4-4c46-a26a-055ea9cb9c5c",
   "metadata": {},
   "outputs": [
    {
     "data": {
      "text/plain": [
       "3.143950223262898"
      ]
     },
     "execution_count": 10,
     "metadata": {},
     "output_type": "execute_result"
    }
   ],
   "source": [
    "integral"
   ]
  },
  {
   "cell_type": "code",
   "execution_count": 6,
   "id": "49ae8182-9d90-4e2b-a0a1-9de95758708d",
   "metadata": {},
   "outputs": [
    {
     "data": {
      "text/plain": [
       "3.141592653589793"
      ]
     },
     "execution_count": 6,
     "metadata": {},
     "output_type": "execute_result"
    }
   ],
   "source": [
    "np.pi"
   ]
  },
  {
   "cell_type": "code",
   "execution_count": null,
   "id": "ef0ad24a-9ca4-40e8-a269-cdd9027b358c",
   "metadata": {},
   "outputs": [],
   "source": []
  }
 ],
 "metadata": {
  "kernelspec": {
   "display_name": "Python 3 (ipykernel)",
   "language": "python",
   "name": "python3"
  },
  "language_info": {
   "codemirror_mode": {
    "name": "ipython",
    "version": 3
   },
   "file_extension": ".py",
   "mimetype": "text/x-python",
   "name": "python",
   "nbconvert_exporter": "python",
   "pygments_lexer": "ipython3",
   "version": "3.9.9"
  }
 },
 "nbformat": 4,
 "nbformat_minor": 5
}
